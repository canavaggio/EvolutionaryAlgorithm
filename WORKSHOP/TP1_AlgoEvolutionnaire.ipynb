{
 "cells": [
  {
   "cell_type": "markdown",
   "metadata": {},
   "source": [
    "# *Algorithme Evolutionnaires* \n",
    "\n",
    "#### Travaux dirigés N°1 : *MaxOne*\n",
    "\n",
    "<p style = \"text-align:center;\n",
    "            font-weight:bold \">Résumé</p>\n",
    "On va coder en Python un algorithme génetique simple pour résoudre le problème dit *MaxOne*"
   ]
  },
  {
   "cell_type": "markdown",
   "metadata": {},
   "source": [
    "## 1.  Introduction\n",
    "\n",
    "Le problème dit \"MaxOne\" est un problème jouet, qui consiste à maximiser le nombre de \"1\" dans une chaine de chiffre binaire de longueur $n$. Bien evidement nous connaissons la solution à l'avance ( c'est la chaine 1.1.1.1......1), mais nous souhaitons que l'algorithme génétique le découvre tout seul, en ayant comme seul indice une fonction de $fitness$ qui renvoie le nombre de \"1\" dans une solution candidate. "
   ]
  },
  {
   "cell_type": "markdown",
   "metadata": {},
   "source": [
    "#### Librairie"
   ]
  },
  {
   "cell_type": "code",
   "execution_count": 1,
   "metadata": {},
   "outputs": [],
   "source": [
    "import random\n",
    "import numpy as np\n",
    "import matplotlib.pyplot as plt"
   ]
  },
  {
   "cell_type": "markdown",
   "metadata": {},
   "source": [
    "1. Codez la fonction qui réalise l'*opérateur de mutation*, qui prend un individu en entrée et inverse chacun des ses \"gènes\" avec une probabilité **PMUT**"
   ]
  },
  {
   "cell_type": "markdown",
   "metadata": {},
   "source": [
    "**fonction de mutation**"
   ]
  },
  {
   "cell_type": "code",
   "execution_count": 2,
   "metadata": {},
   "outputs": [],
   "source": [
    "''' arg : liste de int (genes d'un individu) '''\n",
    "\n",
    "''' Probabilité de mutation PMUT'''\n",
    "PMUT = 0.01\n",
    "\n",
    "''' Fonction '''\n",
    "def mutation(arg, PMUT=0.01):\n",
    "    global nbr_mutation\n",
    "    global result\n",
    "    global idx\n",
    "    \n",
    "    npinput = np.array(arg)\n",
    "    arg = np.array(arg)\n",
    "    N = np.shape(npinput)\n",
    "    idx = []\n",
    "    \n",
    "    for i in range(0,N[0]):\n",
    "        prob = random.random()\n",
    "        if prob < PMUT:\n",
    "            #print('mutation')\n",
    "            idx.append(i)\n",
    "            if arg[i] == 1:\n",
    "                arg[i] = 0\n",
    "            else:\n",
    "                arg[i] = 1 \n",
    "    result = arg\n",
    "    nbr_mutation = np.sum(npinput != arg)   \n",
    "    return result, nbr_mutation, idx"
   ]
  },
  {
   "cell_type": "code",
   "execution_count": 3,
   "metadata": {},
   "outputs": [
    {
     "name": "stdout",
     "output_type": "stream",
     "text": [
      "nombre de mutation sur le gene n° 1 : 1 \n",
      " indice : [10] \n",
      " gene muté : [1 1 1 1 1 1 0 1 1 1 0 1 1 0 1 1 1 1 1 0] \n",
      "gene d'origine : [1 1 1 1 1 1 0 1 1 1 1 1 1 0 1 1 1 1 1 0]\n",
      "nombre de mutation sur le gene n° 14 : 1 \n",
      " indice : [8] \n",
      " gene muté : [0 0 1 1 0 0 0 1 0 1 0 0 0 1 0 1 0 0 1 1] \n",
      "gene d'origine : [0 0 1 1 0 0 0 1 1 1 0 0 0 1 0 1 0 0 1 1]\n",
      "nombre de mutation sur le gene n° 28 : 1 \n",
      " indice : [7] \n",
      " gene muté : [1 1 1 0 0 1 0 0 0 0 0 1 1 1 1 1 1 0 1 1] \n",
      "gene d'origine : [1 1 1 0 0 1 0 1 0 0 0 1 1 1 1 1 1 0 1 1]\n",
      "nombre de mutation sur le gene n° 29 : 1 \n",
      " indice : [7] \n",
      " gene muté : [1 0 1 1 0 1 0 1 0 0 0 0 1 0 0 1 0 1 0 0] \n",
      "gene d'origine : [1 0 1 1 0 1 0 0 0 0 0 0 1 0 0 1 0 1 0 0]\n",
      "nombre de mutation sur le gene n° 31 : 1 \n",
      " indice : [7] \n",
      " gene muté : [0 0 1 1 0 1 1 1 0 0 0 0 1 0 0 0 0 0 0 1] \n",
      "gene d'origine : [0 0 1 1 0 1 1 0 0 0 0 0 1 0 0 0 0 0 0 1]\n",
      "nombre de mutation sur le gene n° 46 : 1 \n",
      " indice : [7] \n",
      " gene muté : [1 1 0 0 1 0 1 0 1 1 0 0 1 1 1 0 1 0 1 1] \n",
      "gene d'origine : [1 1 0 0 1 0 1 1 1 1 0 0 1 1 1 0 1 0 1 1]\n",
      "nombre de mutation sur le gene n° 51 : 1 \n",
      " indice : [13] \n",
      " gene muté : [1 1 0 0 1 1 1 1 1 0 0 1 0 0 1 0 1 0 1 0] \n",
      "gene d'origine : [1 1 0 0 1 1 1 1 1 0 0 1 0 1 1 0 1 0 1 0]\n",
      "nombre de mutation sur le gene n° 56 : 1 \n",
      " indice : [5] \n",
      " gene muté : [1 0 1 0 1 1 0 1 1 1 1 0 1 0 0 0 1 1 1 0] \n",
      "gene d'origine : [1 0 1 0 1 0 0 1 1 1 1 0 1 0 0 0 1 1 1 0]\n",
      "nombre de mutation sur le gene n° 59 : 1 \n",
      " indice : [18] \n",
      " gene muté : [0 0 0 1 1 0 0 0 1 1 1 1 0 1 0 1 0 1 0 0] \n",
      "gene d'origine : [0 0 0 1 1 0 0 0 1 1 1 1 0 1 0 1 0 1 1 0]\n",
      "nombre de mutation sur le gene n° 60 : 1 \n",
      " indice : [1] \n",
      " gene muté : [0 1 0 0 1 0 1 0 0 0 0 1 0 1 0 1 1 0 0 1] \n",
      "gene d'origine : [0 0 0 0 1 0 1 0 0 0 0 1 0 1 0 1 1 0 0 1]\n",
      "nombre de mutation sur le gene n° 66 : 1 \n",
      " indice : [17] \n",
      " gene muté : [1 0 1 0 0 0 1 0 1 1 1 0 1 1 0 1 1 1 1 0] \n",
      "gene d'origine : [1 0 1 0 0 0 1 0 1 1 1 0 1 1 0 1 1 0 1 0]\n",
      "nombre de mutation sur le gene n° 72 : 1 \n",
      " indice : [19] \n",
      " gene muté : [1 1 1 0 0 1 1 0 1 0 1 1 1 0 1 0 0 1 1 0] \n",
      "gene d'origine : [1 1 1 0 0 1 1 0 1 0 1 1 1 0 1 0 0 1 1 1]\n",
      "nombre de mutation sur le gene n° 75 : 1 \n",
      " indice : [12] \n",
      " gene muté : [1 0 1 0 1 0 1 1 0 1 0 1 0 1 1 0 0 1 1 1] \n",
      "gene d'origine : [1 0 1 0 1 0 1 1 0 1 0 1 1 1 1 0 0 1 1 1]\n",
      "nombre de mutation sur le gene n° 82 : 1 \n",
      " indice : [16] \n",
      " gene muté : [1 0 1 0 0 0 1 1 0 1 1 1 1 0 0 1 0 1 0 0] \n",
      "gene d'origine : [1 0 1 0 0 0 1 1 0 1 1 1 1 0 0 1 1 1 0 0]\n",
      "nombre de mutation sur le gene n° 86 : 1 \n",
      " indice : [7] \n",
      " gene muté : [0 1 1 0 0 1 1 0 1 1 0 0 0 1 0 1 1 1 1 0] \n",
      "gene d'origine : [0 1 1 0 0 1 1 1 1 1 0 0 0 1 0 1 1 1 1 0]\n",
      "nombre de mutation sur le gene n° 88 : 2 \n",
      " indice : [5, 19] \n",
      " gene muté : [0 1 1 1 1 1 0 1 0 1 1 0 1 1 0 1 0 0 0 1] \n",
      "gene d'origine : [0 1 1 1 1 0 0 1 0 1 1 0 1 1 0 1 0 0 0 0]\n",
      "nombre de mutation sur le gene n° 97 : 1 \n",
      " indice : [11] \n",
      " gene muté : [0 1 1 0 0 0 1 0 1 1 0 1 1 1 1 0 0 1 1 1] \n",
      "gene d'origine : [0 1 1 0 0 0 1 0 1 1 0 0 1 1 1 0 0 1 1 1]\n"
     ]
    },
    {
     "data": {
      "image/png": "[encoded data removed]",
      "text/plain": [
       "<Figure size 432x288 with 1 Axes>"
      ]
     },
     "metadata": {
      "needs_background": "light"
     },
     "output_type": "display_data"
    }
   ],
   "source": [
    "''' Test mutation fonction ''' \n",
    "\n",
    "''' Générer les données de test'''\n",
    "POPSIZE = 100 # La taille de la population\n",
    "N = 20 # taille de l'ensemble A \n",
    "pop = np.random.choice([0,1], [POPSIZE,N])\n",
    "\n",
    "mutation_history = []\n",
    "\n",
    "for i in range(0,POPSIZE):\n",
    "    mutation(pop[i])\n",
    "    mutation_history.append(nbr_mutation)\n",
    "    if nbr_mutation != 0:\n",
    "        print(\"nombre de mutation sur le gene n°\", i, \":\", nbr_mutation, \"\\n\",\n",
    "          \"indice :\",idx,\"\\n\",\n",
    "          \"gene muté :\", result,\"\\n\"\n",
    "          \"gene d'origine :\", pop[i])\n",
    "\n",
    "label = np.unique(mutation_history)\n",
    "values = np.unique(mutation_history, return_counts=True)[1]\n",
    "\n",
    "import matplotlib.pyplot as plt\n",
    "plt.bar(label, values)\n",
    "plt.title(\"Repartition du nombre de mutation\")\n",
    "plt.show()\n"
   ]
  },
  {
   "cell_type": "markdown",
   "metadata": {},
   "source": [
    "2. Codez la fonction qui réalise l'opérateur de croisement, qui prend deux individus en entrée, choisit un point de croisement au hasard et échange les deux sous-chaînes à sa droite"
   ]
  },
  {
   "cell_type": "markdown",
   "metadata": {},
   "source": [
    "**fonction : operateur de croisement**"
   ]
  },
  {
   "cell_type": "code",
   "execution_count": 4,
   "metadata": {},
   "outputs": [],
   "source": [
    "''' arg1, arg2 :  genes d'un individu '''\n",
    "\n",
    "''' probabilité d'une recombination '''\n",
    "PX = 0.6\n",
    "\n",
    "''' Function '''\n",
    "def crossover(arg1, arg2, PX=0.6,comment=False):\n",
    "    prob = random.random()\n",
    "    if prob < PX:\n",
    "        cross_point = np.random.choice(np.arange(0,len(arg1)))\n",
    "        tmp = arg1[cross_point]\n",
    "        tmp2 = arg2[cross_point]\n",
    "        arg1[cross_point] = tmp2\n",
    "        arg2[cross_point] = tmp\n",
    "        if comment == True:\n",
    "            print(\"mutation TRUE\")\n",
    "            print(\"Changement de gene en :\", cross_point, \"\\n\")\n",
    "            print(\"input1 : \", arg1)\n",
    "            print(\"input2 : \", arg2)\n",
    "        return arg1, arg2\n",
    "    else :\n",
    "        if comment == True:\n",
    "            print(\"mutation FALSE\")\n",
    "            print(\"input1 : \", arg1)\n",
    "            print(\"input2 : \", arg2)\n",
    "        return arg1, arg2"
   ]
  },
  {
   "cell_type": "code",
   "execution_count": 5,
   "metadata": {},
   "outputs": [
    {
     "name": "stdout",
     "output_type": "stream",
     "text": [
      "input1 : [1 1 0 0 0 0 0 0 1 1 0 0 1 0 1 0 1 1 0 0]\n",
      "input2 : [0 0 0 1 0 1 0 1 0 0 1 0 1 1 1 1 1 0 0 0] \n",
      "\n",
      "mutation FALSE\n",
      "input1 :  [1 1 0 0 0 0 0 0 1 1 0 0 1 0 1 0 1 1 0 0]\n",
      "input2 :  [0 0 0 1 0 1 0 1 0 0 1 0 1 1 1 1 1 0 0 0]\n"
     ]
    }
   ],
   "source": [
    "''' Test recombination '''\n",
    "\n",
    "''' Générer les données de test'''\n",
    "POPSIZE = 100 # La taille de la population\n",
    "N = 20 # la taille de longueur de l'ensemble A\n",
    "pop = np.random.choice([0,1], [POPSIZE,N])\n",
    "\n",
    "print(\"input1 :\", pop[1])\n",
    "print(\"input2 :\", pop[2], \"\\n\")\n",
    "\n",
    " \n",
    "tmp = crossover(pop[1], pop[2], comment = True)"
   ]
  },
  {
   "cell_type": "markdown",
   "metadata": {},
   "source": [
    "3. Codez la fonction $fitness$, quiprends un individu en entrée et renvoie le nombre de $\"1\"$ qu'il contient."
   ]
  },
  {
   "cell_type": "markdown",
   "metadata": {},
   "source": [
    "**fonction de fitness**"
   ]
  },
  {
   "cell_type": "code",
   "execution_count": 6,
   "metadata": {},
   "outputs": [],
   "source": [
    "''' arg : sequence de gene  '''\n",
    "def fitness(arg):\n",
    "    return np.sum(arg)    "
   ]
  },
  {
   "cell_type": "code",
   "execution_count": 7,
   "metadata": {},
   "outputs": [
    {
     "name": "stdout",
     "output_type": "stream",
     "text": [
      "12\n",
      "[1 1 1 0 0 1 0 1 1 0 1 1 0 1 0 1 1 0 1 0]\n"
     ]
    }
   ],
   "source": [
    "''' Test fitness function '''\n",
    "\n",
    "''' Générer les données de test'''\n",
    "POPSIZE = 100 # La taille de la population\n",
    "N = 20 # la longueur d'un génome\n",
    "pop = np.random.choice([0,1], [POPSIZE,N])\n",
    "\n",
    "print(fitness(pop[1]))\n",
    "print(pop[1])"
   ]
  },
  {
   "cell_type": "markdown",
   "metadata": {},
   "source": [
    "4. Codez la fonction qui réalise l'opérateur de sélection. ( selection par rang)"
   ]
  },
  {
   "cell_type": "markdown",
   "metadata": {},
   "source": [
    "**Operateur de selection par rang**\n"
   ]
  },
  {
   "cell_type": "code",
   "execution_count": 8,
   "metadata": {},
   "outputs": [],
   "source": [
    "def selection(data):\n",
    "    global boot\n",
    "    global cum_fitness_max\n",
    "    global cum_fitness_min\n",
    "    global selectionindiv\n",
    "    global value \n",
    "\n",
    "    data = np.array(data)\n",
    "    fitness = np.sum(data, axis=1)\n",
    "    fitness_cum = np.cumsum(fitness)\n",
    "    selectionindiv = np.random.choice(fitness_cum)\n",
    "    \n",
    "    '''\n",
    "    data = np.concatenate((data,\n",
    "                           np.reshape(fitness,(-1,1)),\n",
    "                           np.reshape(fitness_cum,(-1,1))),\n",
    "                          axis=1)\n",
    "    '''\n",
    "    value = np.arange(0,np.max(fitness_cum))\n",
    "    selectionindiv = np.random.choice(value)\n",
    "\n",
    "    for i in np.arange(0,np.shape(data)[0]-1):\n",
    "        if fitness_cum[i+1] > selectionindiv and fitness_cum[i-1] < selectionindiv:\n",
    "            cum_fitness_max = i+1\n",
    "            cum_fitness_min = i-1\n",
    "            \n",
    "            if fitness[cum_fitness_max] > fitness[cum_fitness_min]:\n",
    "                boot = data[cum_fitness_max]\n",
    "                \n",
    "            else :\n",
    "                boot = data[cum_fitness_min]\n",
    "    return boot\n",
    "        \n",
    "                \n",
    "            \n",
    "    \n",
    "    "
   ]
  },
  {
   "cell_type": "code",
   "execution_count": 9,
   "metadata": {},
   "outputs": [],
   "source": [
    "''' Générer les données de test'''\n",
    "POPSIZE = 100 # La taille de la population\n",
    "N = 20 # la longueur d'un génome\n",
    "pop = np.random.choice([0,1], [POPSIZE,N])"
   ]
  },
  {
   "cell_type": "markdown",
   "metadata": {},
   "source": [
    "### Evolutionnary Algorithm"
   ]
  },
  {
   "cell_type": "code",
   "execution_count": 10,
   "metadata": {},
   "outputs": [
    {
     "name": "stdout",
     "output_type": "stream",
     "text": [
      "pop shape : (100, 20)\n"
     ]
    }
   ],
   "source": [
    "'''Nombre maximum de générations '''\n",
    "MAXGEN = 100 \n",
    "\n",
    "''' La taille de la population '''\n",
    "POPSIZE = 100 \n",
    "\n",
    "''' la longueur d'un génome '''\n",
    "N = 20 \n",
    "\n",
    "''' probabilité d'une mutation '''\n",
    "PMUT = 0.01 \n",
    "\n",
    "''' probabilité d'une recombination'''\n",
    "PX = 0.6 \n",
    "\n",
    "pop = np.random.choice([0,1], [POPSIZE,N])\n",
    "print(\"pop shape :\", np.shape(pop))\n",
    "\n",
    "''''\n",
    "print(\"pop : \\n\",\n",
    "      \"nombre d'individus :\", np.shape(pop)[0],\"\\n\",\n",
    "      \"taille des genes :\",np.shape(pop)[1])\n",
    "'''\n",
    "\n",
    "'''\n",
    "print(\"Samples : \\n\",\n",
    "      \"sample n°\",i,\"\\n\",\n",
    "      \" gene :\", pop[i])\n",
    "'''\n",
    "\n",
    "''' boucle simulant le nombre de generation'''\n",
    "for i in range(MAXGEN):\n",
    "    ''' block d'instruction qui effectue la selection '''\n",
    "    new_pop = selection(pop) # selectionne un individu aleatoirement \n",
    "    for j in np.arange(0,POPSIZE-1):\n",
    "        new_indiv = selection(pop)\n",
    "        new_pop = np.vstack([new_pop, new_indiv] )\n",
    "   # print(\"new_pop shape :\", np.shape(new_pop))\n",
    "    \n",
    "    for m in np.arange(0,POPSIZE-1):\n",
    "        tmp = mutation(new_pop[m])\n",
    "       # print(\"tmp\",tmp)\n",
    "        new_pop[m] = tmp[0]\n",
    "        \n",
    "    for n in np.arange(0, POPSIZE-1,2):\n",
    "        tmp = crossover(new_pop[n], new_pop[n+1])\n",
    "        new_pop[n] = tmp[0]\n",
    "        new_pop[n+1] = tmp[1]\n",
    "\n",
    "            \n",
    "\n",
    "        \n",
    "        "
   ]
  },
  {
   "cell_type": "code",
   "execution_count": 11,
   "metadata": {},
   "outputs": [],
   "source": [
    "\n",
    "def AlgoEvol(pmut=0.01, px=0.6):\n",
    "    '''Nombre maximum de générations '''\n",
    "    MAXGEN = 100 \n",
    "\n",
    "    ''' La taille de la population '''\n",
    "    POPSIZE = 100 \n",
    "\n",
    "    ''' la longueur d'un génome '''\n",
    "    N = 20\n",
    "\n",
    "    ''' probabilité d'une mutation '''\n",
    "     \n",
    "\n",
    "    ''' probabilité d'une recombination'''\n",
    "    PX = 0.6 \n",
    "    global pop\n",
    "    global best_solution\n",
    "    pop = np.random.choice([0,1], [POPSIZE,N])\n",
    "    #print(\"pop shape :\", np.shape(pop))\n",
    "\n",
    "    global fitness_max_history\n",
    "    fitness_max_history = []\n",
    "    for i in range(MAXGEN):\n",
    "\n",
    "        ''' block d'instruction qui effectue la selection '''\n",
    "        new_pop = selection(pop) # selectionne un individu aleatoirement \n",
    "        for j in np.arange(0,POPSIZE-1):\n",
    "            new_indiv = selection(pop)\n",
    "            new_pop = np.vstack([new_pop, new_indiv] )\n",
    "    # print(\"new_pop shape :\", np.shape(new_pop))\n",
    "        fitness = np.sum(new_pop, axis=1)\n",
    "        fitness_cum = np.cumsum(fitness)\n",
    "        # print(\"fitness cumulative generation n°\",i,np.max(fitness_cum))\n",
    "        fitness_max_history.append(np.max(fitness_cum))\n",
    "\n",
    "        for m in np.arange(0,POPSIZE-1):\n",
    "            tmp = mutation(new_pop[m], PMUT=pmut)\n",
    "        # print(\"tmp\",tmp)\n",
    "            new_pop[m] = tmp[0]\n",
    "            \n",
    "        for n in np.arange(0, POPSIZE-1,2):\n",
    "            tmp = crossover(new_pop[n], new_pop[n+1], PX=px)\n",
    "            new_pop[n] = tmp[0]\n",
    "            new_pop[n+1] = tmp[1]\n",
    "\n",
    "        pop = new_pop\n",
    "\n",
    "    return fitness_max_history\n"
   ]
  },
  {
   "cell_type": "markdown",
   "metadata": {},
   "source": [
    "### Experiences"
   ]
  },
  {
   "cell_type": "markdown",
   "metadata": {},
   "source": [
    "**Teste de l'AlgoEvol() avec différentes probabilités de mutation des gènes**"
   ]
  },
  {
   "cell_type": "code",
   "execution_count": 12,
   "metadata": {},
   "outputs": [
    {
     "data": {
      "image/png": "[encoded data removed]",
      "text/plain": [
       "<Figure size 432x288 with 1 Axes>"
      ]
     },
     "metadata": {
      "needs_background": "light"
     },
     "output_type": "display_data"
    }
   ],
   "source": [
    "import matplotlib.pyplot as plt\n",
    "\n",
    "parametres = [0.01, 0.05, 0.1, 0.2]\n",
    "\n",
    "values = np.arange(1,101,1)\n",
    "for i in parametres:\n",
    "    evolution = AlgoEvol(pmut=i)\n",
    "    d = \"pmut :\"+str(i)\n",
    "    plt.plot(values, fitness_max_history, label =d)\n",
    "    plt.legend()\n",
    "\n",
    "plt.title(\" Evolution de la fitness cumule sur 100 generations\")\n",
    "plt.show()"
   ]
  },
  {
   "cell_type": "markdown",
   "metadata": {},
   "source": [
    "**Observation**\n",
    " \n",
    "On observe que la fréquence de mutation a un impact sur la convergence de la solution. En effet, on peut observer que pour une probabilité de mutation élevé, la population ne va pas tendre en intégralité vers la solution optimale. \n"
   ]
  },
  {
   "cell_type": "markdown",
   "metadata": {},
   "source": [
    "**Teste de l'AlgoEvol() avec différentes probabilité de recombinaison des gènes**"
   ]
  },
  {
   "cell_type": "code",
   "execution_count": 13,
   "metadata": {},
   "outputs": [
    {
     "data": {
      "image/png": "[encoded data removed]",
      "text/plain": [
       "<Figure size 432x288 with 1 Axes>"
      ]
     },
     "metadata": {
      "needs_background": "light"
     },
     "output_type": "display_data"
    }
   ],
   "source": [
    "import matplotlib.pyplot as plt\n",
    "\n",
    "parametres = [0.2,0.5, 0.6, 0.7, 0.8]\n",
    "\n",
    "values = np.arange(1,101,1)\n",
    "for i in parametres:\n",
    "    evolution = AlgoEvol(px=i)\n",
    "    d = \"px :\"+str(i)\n",
    "    plt.plot(values, fitness_max_history, label =d)\n",
    "    plt.legend()\n",
    "\n",
    "plt.title(\" Evolution de la fitness cumule sur 100 generations\")\n",
    "plt.show()"
   ]
  },
  {
   "cell_type": "markdown",
   "metadata": {},
   "source": [
    "**Observation:**\n",
    "\n",
    "On peut observer que la probabilité de recombinaison des gènes n'a pas autant d'impact que l'opérateur de mutation de gène. Dans ce cas de figure, on peut remarquer que, lorsque la probilité de recombinaison est élevé, la population converge legerement plus vite vers la solution."
   ]
  }
 ],
 "metadata": {
  "interpreter": {
   "hash": "916dbcbb3f70747c44a77c7bcd40155683ae19c65e1c03b4aa3499c5328201f1"
  },
  "kernelspec": {
   "display_name": "Python 3.8.10 64-bit",
   "name": "python3"
  },
  "language_info": {
   "codemirror_mode": {
    "name": "ipython",
    "version": 3
   },
   "file_extension": ".py",
   "mimetype": "text/x-python",
   "name": "python",
   "nbconvert_exporter": "python",
   "pygments_lexer": "ipython3",
   "version": "3.8.10"
  }
 },
 "nbformat": 4,
 "nbformat_minor": 5
}
